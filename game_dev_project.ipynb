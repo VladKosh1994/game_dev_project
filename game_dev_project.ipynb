{
 "cells": [
  {
   "cell_type": "markdown",
   "metadata": {},
   "source": [
    "# Задача 1\n",
    "Создадим функцию для подсчета подневного Retention игроков мобильной игры.  "
   ]
  },
  {
   "cell_type": "code",
   "execution_count": 41,
   "metadata": {},
   "outputs": [],
   "source": [
    "# Импортируем библиотеки\n",
    "import pandas as pd\n",
    "import matplotlib.pyplot as plt\n",
    "import seaborn as sns\n",
    "import numpy as np\n",
    "import scipy.stats as stats\n",
    "from scipy.stats import chi2_contingency"
   ]
  },
  {
   "cell_type": "code",
   "execution_count": 2,
   "metadata": {},
   "outputs": [],
   "source": [
    "# прочитаем данные и посмотрим на них\n",
    "reg = pd.read_csv('problem1-reg_data.csv', sep = ';')\n",
    "auth = pd.read_csv('problem1-auth_data.csv', sep = ';')"
   ]
  },
  {
   "cell_type": "markdown",
   "metadata": {},
   "source": [
    "Проведем небольшую разведку данных"
   ]
  },
  {
   "cell_type": "code",
   "execution_count": 3,
   "metadata": {},
   "outputs": [
    {
     "data": {
      "text/html": [
       "<div>\n",
       "<style scoped>\n",
       "    .dataframe tbody tr th:only-of-type {\n",
       "        vertical-align: middle;\n",
       "    }\n",
       "\n",
       "    .dataframe tbody tr th {\n",
       "        vertical-align: top;\n",
       "    }\n",
       "\n",
       "    .dataframe thead th {\n",
       "        text-align: right;\n",
       "    }\n",
       "</style>\n",
       "<table border=\"1\" class=\"dataframe\">\n",
       "  <thead>\n",
       "    <tr style=\"text-align: right;\">\n",
       "      <th></th>\n",
       "      <th>reg_ts</th>\n",
       "      <th>uid</th>\n",
       "    </tr>\n",
       "  </thead>\n",
       "  <tbody>\n",
       "    <tr>\n",
       "      <th>0</th>\n",
       "      <td>911382223</td>\n",
       "      <td>1</td>\n",
       "    </tr>\n",
       "    <tr>\n",
       "      <th>1</th>\n",
       "      <td>932683089</td>\n",
       "      <td>2</td>\n",
       "    </tr>\n",
       "  </tbody>\n",
       "</table>\n",
       "</div>"
      ],
      "text/plain": [
       "      reg_ts  uid\n",
       "0  911382223    1\n",
       "1  932683089    2"
      ]
     },
     "execution_count": 3,
     "metadata": {},
     "output_type": "execute_result"
    }
   ],
   "source": [
    "reg.head(2)"
   ]
  },
  {
   "cell_type": "code",
   "execution_count": 4,
   "metadata": {},
   "outputs": [
    {
     "data": {
      "text/plain": [
       "reg_ts    int64\n",
       "uid       int64\n",
       "dtype: object"
      ]
     },
     "execution_count": 4,
     "metadata": {},
     "output_type": "execute_result"
    }
   ],
   "source": [
    "reg.dtypes"
   ]
  },
  {
   "cell_type": "code",
   "execution_count": 5,
   "metadata": {},
   "outputs": [
    {
     "data": {
      "text/html": [
       "<div>\n",
       "<style scoped>\n",
       "    .dataframe tbody tr th:only-of-type {\n",
       "        vertical-align: middle;\n",
       "    }\n",
       "\n",
       "    .dataframe tbody tr th {\n",
       "        vertical-align: top;\n",
       "    }\n",
       "\n",
       "    .dataframe thead th {\n",
       "        text-align: right;\n",
       "    }\n",
       "</style>\n",
       "<table border=\"1\" class=\"dataframe\">\n",
       "  <thead>\n",
       "    <tr style=\"text-align: right;\">\n",
       "      <th></th>\n",
       "      <th>auth_ts</th>\n",
       "      <th>uid</th>\n",
       "    </tr>\n",
       "  </thead>\n",
       "  <tbody>\n",
       "    <tr>\n",
       "      <th>0</th>\n",
       "      <td>911382223</td>\n",
       "      <td>1</td>\n",
       "    </tr>\n",
       "    <tr>\n",
       "      <th>1</th>\n",
       "      <td>932683089</td>\n",
       "      <td>2</td>\n",
       "    </tr>\n",
       "  </tbody>\n",
       "</table>\n",
       "</div>"
      ],
      "text/plain": [
       "     auth_ts  uid\n",
       "0  911382223    1\n",
       "1  932683089    2"
      ]
     },
     "execution_count": 5,
     "metadata": {},
     "output_type": "execute_result"
    }
   ],
   "source": [
    "auth.head(2)"
   ]
  },
  {
   "cell_type": "code",
   "execution_count": 6,
   "metadata": {},
   "outputs": [
    {
     "data": {
      "text/plain": [
       "auth_ts    int64\n",
       "uid        int64\n",
       "dtype: object"
      ]
     },
     "execution_count": 6,
     "metadata": {},
     "output_type": "execute_result"
    }
   ],
   "source": [
    "auth.dtypes"
   ]
  },
  {
   "cell_type": "code",
   "execution_count": 7,
   "metadata": {},
   "outputs": [
    {
     "data": {
      "text/plain": [
       "reg_ts    int64\n",
       "uid       int64\n",
       "dtype: object"
      ]
     },
     "execution_count": 7,
     "metadata": {},
     "output_type": "execute_result"
    }
   ],
   "source": [
    "reg.dtypes"
   ]
  },
  {
   "cell_type": "markdown",
   "metadata": {},
   "source": [
    "Видим, что у нас дата в int, но по сути это UNIX timestamp. Примем это во внимание."
   ]
  },
  {
   "cell_type": "code",
   "execution_count": 8,
   "metadata": {},
   "outputs": [
    {
     "data": {
      "text/plain": [
       "reg_ts    0\n",
       "uid       0\n",
       "dtype: int64"
      ]
     },
     "execution_count": 8,
     "metadata": {},
     "output_type": "execute_result"
    }
   ],
   "source": [
    "# Смотрим на наличие пропущенных значений.\n",
    "reg.isna().sum()"
   ]
  },
  {
   "cell_type": "code",
   "execution_count": 9,
   "metadata": {},
   "outputs": [
    {
     "data": {
      "text/plain": [
       "auth_ts    0\n",
       "uid        0\n",
       "dtype: int64"
      ]
     },
     "execution_count": 9,
     "metadata": {},
     "output_type": "execute_result"
    }
   ],
   "source": [
    "auth.isna().sum()"
   ]
  },
  {
   "cell_type": "code",
   "execution_count": 10,
   "metadata": {},
   "outputs": [
    {
     "data": {
      "text/html": [
       "<div>\n",
       "<style scoped>\n",
       "    .dataframe tbody tr th:only-of-type {\n",
       "        vertical-align: middle;\n",
       "    }\n",
       "\n",
       "    .dataframe tbody tr th {\n",
       "        vertical-align: top;\n",
       "    }\n",
       "\n",
       "    .dataframe thead th {\n",
       "        text-align: right;\n",
       "    }\n",
       "</style>\n",
       "<table border=\"1\" class=\"dataframe\">\n",
       "  <thead>\n",
       "    <tr style=\"text-align: right;\">\n",
       "      <th></th>\n",
       "      <th>auth_ts</th>\n",
       "      <th>uid</th>\n",
       "    </tr>\n",
       "  </thead>\n",
       "  <tbody>\n",
       "    <tr>\n",
       "      <th>0</th>\n",
       "      <td>911382223</td>\n",
       "      <td>1</td>\n",
       "    </tr>\n",
       "    <tr>\n",
       "      <th>1</th>\n",
       "      <td>932683089</td>\n",
       "      <td>2</td>\n",
       "    </tr>\n",
       "  </tbody>\n",
       "</table>\n",
       "</div>"
      ],
      "text/plain": [
       "     auth_ts  uid\n",
       "0  911382223    1\n",
       "1  932683089    2"
      ]
     },
     "execution_count": 10,
     "metadata": {},
     "output_type": "execute_result"
    }
   ],
   "source": [
    "auth.head(2)"
   ]
  },
  {
   "cell_type": "markdown",
   "metadata": {},
   "source": [
    "Пропущенных значений у нас нет. С датафреймами можно работать. Есть нюанс, что судя по разнице таймстемп значений, период у нас довольно большой. Необходимо в функцию также добавить возможно ограничивать период поиска, чтобы можно было извлекать нужный период и строить удобную сводную таблицу с показалетем Retention"
   ]
  },
  {
   "cell_type": "code",
   "execution_count": 11,
   "metadata": {},
   "outputs": [],
   "source": [
    "def retention_rate(data_reg, data_auth, min_date, max_date, lifetime_days):\n",
    "    \"\"\"Для получения retention n-дней для определенного периода необходимо ввести следующие данные:\n",
    "    data_reg - путь к файлу с информацией о регистрации пользователей;\n",
    "    data_auth - путь к файлу с датой захода пользователей в приложение;\n",
    "    min_date - минимальная дата регистрации пользователей, она же первая когорта;\n",
    "    max_date - максимальная дата регистрации пользователей, она же последняя когорта;\n",
    "    lifetime_days - время жизни когорт, исчисляемое количеством дней с момента регистрации.\n",
    "    В итоге мы получим сводную таблицу retention n-дней в процентах по когортам.\n",
    "    \"\"\"\n",
    "    #Читаем файлы\n",
    "    reg_data = pd.read_csv(data_reg, sep=';')\n",
    "    auth_data = pd.read_csv(data_auth, sep=';')\n",
    "    \n",
    "    min_date = pd.to_datetime(min_date)\n",
    "    max_date = pd.to_datetime(max_date)\n",
    "    lifetime_days = lifetime_days\n",
    " \n",
    "    \n",
    "    #переводим дату в нормальный формат из UNIX-timestamp\n",
    "    reg_data['reg_ts'] = pd.to_datetime(reg_data['reg_ts'], unit = 's').dt.date\n",
    "    auth_data['auth_ts'] = pd.to_datetime(auth_data['auth_ts'], unit = 's').dt.date\n",
    "    reg_data['reg_ts'] = reg_data['reg_ts'].astype('datetime64[D]')\n",
    "    auth_data['auth_ts'] = auth_data['auth_ts'].astype('datetime64[D]')\n",
    "\n",
    "    \n",
    "    #соединяем \n",
    "    full_data = auth_data.merge(reg_data, on = 'uid', how = 'left')\n",
    "    \n",
    "    #ограничиваем датасет интересующими нас датами для сокращения времени обработки дальнейших действий.\n",
    "    full_data = full_data[(full_data.reg_ts >= min_date) & (full_data.reg_ts <= max_date)]\n",
    "    \n",
    "    #Вычисляем время жизни каждой когорты в количестве дней. \n",
    "    full_data['cohort_lifetime'] = full_data['auth_ts'] - full_data['reg_ts']\n",
    "    full_data['cohort_lifetime'] = full_data['cohort_lifetime'] / np.timedelta64(1, 'D')\n",
    "    full_data['cohort_lifetime'] = full_data['cohort_lifetime'].round().astype(int)\n",
    "    \n",
    "    #органичиваем время жизни когорт\n",
    "    full_data = full_data[full_data.cohort_lifetime <= lifetime_days]\n",
    "    \n",
    "    #группируем для получения количества пользователей в каждый день жизни когорты:\n",
    "    cohorts = full_data.groupby(['reg_ts','cohort_lifetime'], as_index = False).agg({'uid':'nunique'})\n",
    "    \n",
    "    # Получем отдельную колонку с количеством пользователей в каждой когорте\n",
    "    install_users_count = cohorts[cohorts['cohort_lifetime'] == 0][['reg_ts','uid']]\n",
    "    install_users_count = install_users_count.rename(columns={'uid':'cohort_users'})\n",
    "    cohorts = cohorts.merge(install_users_count, on='reg_ts')\n",
    "    \n",
    "    #вычисляем Retention\n",
    "    cohorts['retention'] = (cohorts['uid']/cohorts['cohort_users'])\n",
    "    \n",
    "    \n",
    "    retention_pivot = cohorts.pivot(\n",
    "    index=['reg_ts', 'cohort_users'], columns='cohort_lifetime',\n",
    "    values='retention')\n",
    "\n",
    "    # удаляем первый столбец, т.к. он соответствует lifetime = 0\n",
    "    retention_pivot = retention_pivot.drop(columns=[0])\n",
    "    \n",
    "    retention_visual = (retention_pivot \\\n",
    "                   .style \\\n",
    "                   .set_caption(f'Retention первых {lifetime_days} дней') \\\n",
    "                   .background_gradient(cmap='Reds', axis=1) \\\n",
    "                   .highlight_null('white') \\\n",
    "                   .format(\"{:.1%}\") \\\n",
    "                   .set_properties(**{'width': '100px'}))\n",
    "\n",
    "    \n",
    "    return retention_visual"
   ]
  },
  {
   "cell_type": "markdown",
   "metadata": {},
   "source": [
    "У нас есть функция, теперь подготовим данные для ввода, чтобы сократить время обработки."
   ]
  },
  {
   "cell_type": "code",
   "execution_count": 12,
   "metadata": {},
   "outputs": [],
   "source": [
    "# Задаем значение параметров для функции\n",
    "data_reg = 'problem1-reg_data.csv'\n",
    "data_auth = 'problem1-auth_data.csv'\n",
    "min_date = '2020-09-09'\n",
    "max_date = '2020-09-15'\n",
    "lifetime_days = 7"
   ]
  },
  {
   "cell_type": "code",
   "execution_count": 13,
   "metadata": {
    "scrolled": true
   },
   "outputs": [
    {
     "data": {
      "text/html": [
       "<style  type=\"text/css\" >\n",
       "#T_a6ddf4fa_efd4_11ed_bdbb_96000040dfb6row0_col0,#T_a6ddf4fa_efd4_11ed_bdbb_96000040dfb6row1_col0,#T_a6ddf4fa_efd4_11ed_bdbb_96000040dfb6row2_col0,#T_a6ddf4fa_efd4_11ed_bdbb_96000040dfb6row3_col0,#T_a6ddf4fa_efd4_11ed_bdbb_96000040dfb6row4_col0,#T_a6ddf4fa_efd4_11ed_bdbb_96000040dfb6row5_col0,#T_a6ddf4fa_efd4_11ed_bdbb_96000040dfb6row6_col0{\n",
       "            background-color:  #fff5f0;\n",
       "            color:  #000000;\n",
       "            width:  100px;\n",
       "        }#T_a6ddf4fa_efd4_11ed_bdbb_96000040dfb6row0_col1{\n",
       "            background-color:  #fcaa8d;\n",
       "            color:  #000000;\n",
       "            width:  100px;\n",
       "        }#T_a6ddf4fa_efd4_11ed_bdbb_96000040dfb6row0_col2{\n",
       "            background-color:  #f24633;\n",
       "            color:  #000000;\n",
       "            width:  100px;\n",
       "        }#T_a6ddf4fa_efd4_11ed_bdbb_96000040dfb6row0_col3,#T_a6ddf4fa_efd4_11ed_bdbb_96000040dfb6row0_col5{\n",
       "            background-color:  #b81419;\n",
       "            color:  #f1f1f1;\n",
       "            width:  100px;\n",
       "        }#T_a6ddf4fa_efd4_11ed_bdbb_96000040dfb6row0_col4,#T_a6ddf4fa_efd4_11ed_bdbb_96000040dfb6row1_col6,#T_a6ddf4fa_efd4_11ed_bdbb_96000040dfb6row2_col5,#T_a6ddf4fa_efd4_11ed_bdbb_96000040dfb6row3_col5,#T_a6ddf4fa_efd4_11ed_bdbb_96000040dfb6row4_col4,#T_a6ddf4fa_efd4_11ed_bdbb_96000040dfb6row5_col5,#T_a6ddf4fa_efd4_11ed_bdbb_96000040dfb6row6_col5{\n",
       "            background-color:  #67000d;\n",
       "            color:  #f1f1f1;\n",
       "            width:  100px;\n",
       "        }#T_a6ddf4fa_efd4_11ed_bdbb_96000040dfb6row0_col6{\n",
       "            background-color:  #ac1117;\n",
       "            color:  #f1f1f1;\n",
       "            width:  100px;\n",
       "        }#T_a6ddf4fa_efd4_11ed_bdbb_96000040dfb6row1_col1{\n",
       "            background-color:  #fb7c5c;\n",
       "            color:  #000000;\n",
       "            width:  100px;\n",
       "        }#T_a6ddf4fa_efd4_11ed_bdbb_96000040dfb6row1_col2{\n",
       "            background-color:  #f7593f;\n",
       "            color:  #000000;\n",
       "            width:  100px;\n",
       "        }#T_a6ddf4fa_efd4_11ed_bdbb_96000040dfb6row1_col3{\n",
       "            background-color:  #fc8060;\n",
       "            color:  #000000;\n",
       "            width:  100px;\n",
       "        }#T_a6ddf4fa_efd4_11ed_bdbb_96000040dfb6row1_col4{\n",
       "            background-color:  #840711;\n",
       "            color:  #f1f1f1;\n",
       "            width:  100px;\n",
       "        }#T_a6ddf4fa_efd4_11ed_bdbb_96000040dfb6row1_col5{\n",
       "            background-color:  #b01217;\n",
       "            color:  #f1f1f1;\n",
       "            width:  100px;\n",
       "        }#T_a6ddf4fa_efd4_11ed_bdbb_96000040dfb6row2_col1{\n",
       "            background-color:  #fa6849;\n",
       "            color:  #000000;\n",
       "            width:  100px;\n",
       "        }#T_a6ddf4fa_efd4_11ed_bdbb_96000040dfb6row2_col2,#T_a6ddf4fa_efd4_11ed_bdbb_96000040dfb6row3_col2{\n",
       "            background-color:  #f14432;\n",
       "            color:  #f1f1f1;\n",
       "            width:  100px;\n",
       "        }#T_a6ddf4fa_efd4_11ed_bdbb_96000040dfb6row2_col3{\n",
       "            background-color:  #bb141a;\n",
       "            color:  #f1f1f1;\n",
       "            width:  100px;\n",
       "        }#T_a6ddf4fa_efd4_11ed_bdbb_96000040dfb6row2_col4,#T_a6ddf4fa_efd4_11ed_bdbb_96000040dfb6row6_col3{\n",
       "            background-color:  #b71319;\n",
       "            color:  #f1f1f1;\n",
       "            width:  100px;\n",
       "        }#T_a6ddf4fa_efd4_11ed_bdbb_96000040dfb6row2_col6{\n",
       "            background-color:  #880811;\n",
       "            color:  #f1f1f1;\n",
       "            width:  100px;\n",
       "        }#T_a6ddf4fa_efd4_11ed_bdbb_96000040dfb6row3_col1{\n",
       "            background-color:  #fc8666;\n",
       "            color:  #000000;\n",
       "            width:  100px;\n",
       "        }#T_a6ddf4fa_efd4_11ed_bdbb_96000040dfb6row3_col3{\n",
       "            background-color:  #f34935;\n",
       "            color:  #000000;\n",
       "            width:  100px;\n",
       "        }#T_a6ddf4fa_efd4_11ed_bdbb_96000040dfb6row3_col4{\n",
       "            background-color:  #9c0d14;\n",
       "            color:  #f1f1f1;\n",
       "            width:  100px;\n",
       "        }#T_a6ddf4fa_efd4_11ed_bdbb_96000040dfb6row3_col6{\n",
       "            background-color:  #b31218;\n",
       "            color:  #f1f1f1;\n",
       "            width:  100px;\n",
       "        }#T_a6ddf4fa_efd4_11ed_bdbb_96000040dfb6row4_col1{\n",
       "            background-color:  #fb7757;\n",
       "            color:  #000000;\n",
       "            width:  100px;\n",
       "        }#T_a6ddf4fa_efd4_11ed_bdbb_96000040dfb6row4_col2{\n",
       "            background-color:  #fb6b4b;\n",
       "            color:  #000000;\n",
       "            width:  100px;\n",
       "        }#T_a6ddf4fa_efd4_11ed_bdbb_96000040dfb6row4_col3{\n",
       "            background-color:  #dc2924;\n",
       "            color:  #f1f1f1;\n",
       "            width:  100px;\n",
       "        }#T_a6ddf4fa_efd4_11ed_bdbb_96000040dfb6row4_col5{\n",
       "            background-color:  #6d010e;\n",
       "            color:  #f1f1f1;\n",
       "            width:  100px;\n",
       "        }#T_a6ddf4fa_efd4_11ed_bdbb_96000040dfb6row4_col6,#T_a6ddf4fa_efd4_11ed_bdbb_96000040dfb6row5_col3{\n",
       "            background-color:  #e83429;\n",
       "            color:  #f1f1f1;\n",
       "            width:  100px;\n",
       "        }#T_a6ddf4fa_efd4_11ed_bdbb_96000040dfb6row5_col1{\n",
       "            background-color:  #fc9e80;\n",
       "            color:  #000000;\n",
       "            width:  100px;\n",
       "        }#T_a6ddf4fa_efd4_11ed_bdbb_96000040dfb6row5_col2{\n",
       "            background-color:  #fb7050;\n",
       "            color:  #000000;\n",
       "            width:  100px;\n",
       "        }#T_a6ddf4fa_efd4_11ed_bdbb_96000040dfb6row5_col4{\n",
       "            background-color:  #9a0c14;\n",
       "            color:  #f1f1f1;\n",
       "            width:  100px;\n",
       "        }#T_a6ddf4fa_efd4_11ed_bdbb_96000040dfb6row5_col6{\n",
       "            background-color:  #aa1016;\n",
       "            color:  #f1f1f1;\n",
       "            width:  100px;\n",
       "        }#T_a6ddf4fa_efd4_11ed_bdbb_96000040dfb6row6_col1{\n",
       "            background-color:  #fc8b6b;\n",
       "            color:  #000000;\n",
       "            width:  100px;\n",
       "        }#T_a6ddf4fa_efd4_11ed_bdbb_96000040dfb6row6_col2{\n",
       "            background-color:  #fb694a;\n",
       "            color:  #000000;\n",
       "            width:  100px;\n",
       "        }#T_a6ddf4fa_efd4_11ed_bdbb_96000040dfb6row6_col4{\n",
       "            background-color:  #d21f20;\n",
       "            color:  #f1f1f1;\n",
       "            width:  100px;\n",
       "        }#T_a6ddf4fa_efd4_11ed_bdbb_96000040dfb6row6_col6{\n",
       "            background-color:  #cf1c1f;\n",
       "            color:  #f1f1f1;\n",
       "            width:  100px;\n",
       "        }</style><table id=\"T_a6ddf4fa_efd4_11ed_bdbb_96000040dfb6\" ><caption>Retention первых 7 дней</caption><thead>    <tr>        <th class=\"blank\" ></th>        <th class=\"index_name level0\" >cohort_lifetime</th>        <th class=\"col_heading level0 col0\" >1</th>        <th class=\"col_heading level0 col1\" >2</th>        <th class=\"col_heading level0 col2\" >3</th>        <th class=\"col_heading level0 col3\" >4</th>        <th class=\"col_heading level0 col4\" >5</th>        <th class=\"col_heading level0 col5\" >6</th>        <th class=\"col_heading level0 col6\" >7</th>    </tr>    <tr>        <th class=\"index_name level0\" >reg_ts</th>        <th class=\"index_name level1\" >cohort_users</th>        <th class=\"blank\" ></th>        <th class=\"blank\" ></th>        <th class=\"blank\" ></th>        <th class=\"blank\" ></th>        <th class=\"blank\" ></th>        <th class=\"blank\" ></th>        <th class=\"blank\" ></th>    </tr></thead><tbody>\n",
       "                <tr>\n",
       "                        <th id=\"T_a6ddf4fa_efd4_11ed_bdbb_96000040dfb6level0_row0\" class=\"row_heading level0 row0\" >2020-09-09 00:00:00</th>\n",
       "                        <th id=\"T_a6ddf4fa_efd4_11ed_bdbb_96000040dfb6level1_row0\" class=\"row_heading level1 row0\" >1607</th>\n",
       "                        <td id=\"T_a6ddf4fa_efd4_11ed_bdbb_96000040dfb6row0_col0\" class=\"data row0 col0\" >1.7%</td>\n",
       "                        <td id=\"T_a6ddf4fa_efd4_11ed_bdbb_96000040dfb6row0_col1\" class=\"data row0 col1\" >3.2%</td>\n",
       "                        <td id=\"T_a6ddf4fa_efd4_11ed_bdbb_96000040dfb6row0_col2\" class=\"data row0 col2\" >4.7%</td>\n",
       "                        <td id=\"T_a6ddf4fa_efd4_11ed_bdbb_96000040dfb6row0_col3\" class=\"data row0 col3\" >5.7%</td>\n",
       "                        <td id=\"T_a6ddf4fa_efd4_11ed_bdbb_96000040dfb6row0_col4\" class=\"data row0 col4\" >6.7%</td>\n",
       "                        <td id=\"T_a6ddf4fa_efd4_11ed_bdbb_96000040dfb6row0_col5\" class=\"data row0 col5\" >5.7%</td>\n",
       "                        <td id=\"T_a6ddf4fa_efd4_11ed_bdbb_96000040dfb6row0_col6\" class=\"data row0 col6\" >5.9%</td>\n",
       "            </tr>\n",
       "            <tr>\n",
       "                        <th id=\"T_a6ddf4fa_efd4_11ed_bdbb_96000040dfb6level0_row1\" class=\"row_heading level0 row1\" >2020-09-10 00:00:00</th>\n",
       "                        <th id=\"T_a6ddf4fa_efd4_11ed_bdbb_96000040dfb6level1_row1\" class=\"row_heading level1 row1\" >1609</th>\n",
       "                        <td id=\"T_a6ddf4fa_efd4_11ed_bdbb_96000040dfb6row1_col0\" class=\"data row1 col0\" >2.1%</td>\n",
       "                        <td id=\"T_a6ddf4fa_efd4_11ed_bdbb_96000040dfb6row1_col1\" class=\"data row1 col1\" >4.3%</td>\n",
       "                        <td id=\"T_a6ddf4fa_efd4_11ed_bdbb_96000040dfb6row1_col2\" class=\"data row1 col2\" >4.8%</td>\n",
       "                        <td id=\"T_a6ddf4fa_efd4_11ed_bdbb_96000040dfb6row1_col3\" class=\"data row1 col3\" >4.2%</td>\n",
       "                        <td id=\"T_a6ddf4fa_efd4_11ed_bdbb_96000040dfb6row1_col4\" class=\"data row1 col4\" >6.8%</td>\n",
       "                        <td id=\"T_a6ddf4fa_efd4_11ed_bdbb_96000040dfb6row1_col5\" class=\"data row1 col5\" >6.3%</td>\n",
       "                        <td id=\"T_a6ddf4fa_efd4_11ed_bdbb_96000040dfb6row1_col6\" class=\"data row1 col6\" >7.1%</td>\n",
       "            </tr>\n",
       "            <tr>\n",
       "                        <th id=\"T_a6ddf4fa_efd4_11ed_bdbb_96000040dfb6level0_row2\" class=\"row_heading level0 row2\" >2020-09-11 00:00:00</th>\n",
       "                        <th id=\"T_a6ddf4fa_efd4_11ed_bdbb_96000040dfb6level1_row2\" class=\"row_heading level1 row2\" >1612</th>\n",
       "                        <td id=\"T_a6ddf4fa_efd4_11ed_bdbb_96000040dfb6row2_col0\" class=\"data row2 col0\" >1.3%</td>\n",
       "                        <td id=\"T_a6ddf4fa_efd4_11ed_bdbb_96000040dfb6row2_col1\" class=\"data row2 col1\" >4.0%</td>\n",
       "                        <td id=\"T_a6ddf4fa_efd4_11ed_bdbb_96000040dfb6row2_col2\" class=\"data row2 col2\" >4.5%</td>\n",
       "                        <td id=\"T_a6ddf4fa_efd4_11ed_bdbb_96000040dfb6row2_col3\" class=\"data row2 col3\" >5.6%</td>\n",
       "                        <td id=\"T_a6ddf4fa_efd4_11ed_bdbb_96000040dfb6row2_col4\" class=\"data row2 col4\" >5.7%</td>\n",
       "                        <td id=\"T_a6ddf4fa_efd4_11ed_bdbb_96000040dfb6row2_col5\" class=\"data row2 col5\" >6.7%</td>\n",
       "                        <td id=\"T_a6ddf4fa_efd4_11ed_bdbb_96000040dfb6row2_col6\" class=\"data row2 col6\" >6.3%</td>\n",
       "            </tr>\n",
       "            <tr>\n",
       "                        <th id=\"T_a6ddf4fa_efd4_11ed_bdbb_96000040dfb6level0_row3\" class=\"row_heading level0 row3\" >2020-09-12 00:00:00</th>\n",
       "                        <th id=\"T_a6ddf4fa_efd4_11ed_bdbb_96000040dfb6level1_row3\" class=\"row_heading level1 row3\" >1614</th>\n",
       "                        <td id=\"T_a6ddf4fa_efd4_11ed_bdbb_96000040dfb6row3_col0\" class=\"data row3 col0\" >1.9%</td>\n",
       "                        <td id=\"T_a6ddf4fa_efd4_11ed_bdbb_96000040dfb6row3_col1\" class=\"data row3 col1\" >3.8%</td>\n",
       "                        <td id=\"T_a6ddf4fa_efd4_11ed_bdbb_96000040dfb6row3_col2\" class=\"data row3 col2\" >4.7%</td>\n",
       "                        <td id=\"T_a6ddf4fa_efd4_11ed_bdbb_96000040dfb6row3_col3\" class=\"data row3 col3\" >4.6%</td>\n",
       "                        <td id=\"T_a6ddf4fa_efd4_11ed_bdbb_96000040dfb6row3_col4\" class=\"data row3 col4\" >6.1%</td>\n",
       "                        <td id=\"T_a6ddf4fa_efd4_11ed_bdbb_96000040dfb6row3_col5\" class=\"data row3 col5\" >6.6%</td>\n",
       "                        <td id=\"T_a6ddf4fa_efd4_11ed_bdbb_96000040dfb6row3_col6\" class=\"data row3 col6\" >5.8%</td>\n",
       "            </tr>\n",
       "            <tr>\n",
       "                        <th id=\"T_a6ddf4fa_efd4_11ed_bdbb_96000040dfb6level0_row4\" class=\"row_heading level0 row4\" >2020-09-13 00:00:00</th>\n",
       "                        <th id=\"T_a6ddf4fa_efd4_11ed_bdbb_96000040dfb6level1_row4\" class=\"row_heading level1 row4\" >1618</th>\n",
       "                        <td id=\"T_a6ddf4fa_efd4_11ed_bdbb_96000040dfb6row4_col0\" class=\"data row4 col0\" >2.0%</td>\n",
       "                        <td id=\"T_a6ddf4fa_efd4_11ed_bdbb_96000040dfb6row4_col1\" class=\"data row4 col1\" >4.1%</td>\n",
       "                        <td id=\"T_a6ddf4fa_efd4_11ed_bdbb_96000040dfb6row4_col2\" class=\"data row4 col2\" >4.3%</td>\n",
       "                        <td id=\"T_a6ddf4fa_efd4_11ed_bdbb_96000040dfb6row4_col3\" class=\"data row4 col3\" >5.1%</td>\n",
       "                        <td id=\"T_a6ddf4fa_efd4_11ed_bdbb_96000040dfb6row4_col4\" class=\"data row4 col4\" >6.6%</td>\n",
       "                        <td id=\"T_a6ddf4fa_efd4_11ed_bdbb_96000040dfb6row4_col5\" class=\"data row4 col5\" >6.5%</td>\n",
       "                        <td id=\"T_a6ddf4fa_efd4_11ed_bdbb_96000040dfb6row4_col6\" class=\"data row4 col6\" >4.9%</td>\n",
       "            </tr>\n",
       "            <tr>\n",
       "                        <th id=\"T_a6ddf4fa_efd4_11ed_bdbb_96000040dfb6level0_row5\" class=\"row_heading level0 row5\" >2020-09-14 00:00:00</th>\n",
       "                        <th id=\"T_a6ddf4fa_efd4_11ed_bdbb_96000040dfb6level1_row5\" class=\"row_heading level1 row5\" >1619</th>\n",
       "                        <td id=\"T_a6ddf4fa_efd4_11ed_bdbb_96000040dfb6row5_col0\" class=\"data row5 col0\" >2.2%</td>\n",
       "                        <td id=\"T_a6ddf4fa_efd4_11ed_bdbb_96000040dfb6row5_col1\" class=\"data row5 col1\" >3.8%</td>\n",
       "                        <td id=\"T_a6ddf4fa_efd4_11ed_bdbb_96000040dfb6row5_col2\" class=\"data row5 col2\" >4.5%</td>\n",
       "                        <td id=\"T_a6ddf4fa_efd4_11ed_bdbb_96000040dfb6row5_col3\" class=\"data row5 col3\" >5.3%</td>\n",
       "                        <td id=\"T_a6ddf4fa_efd4_11ed_bdbb_96000040dfb6row5_col4\" class=\"data row5 col4\" >6.5%</td>\n",
       "                        <td id=\"T_a6ddf4fa_efd4_11ed_bdbb_96000040dfb6row5_col5\" class=\"data row5 col5\" >7.0%</td>\n",
       "                        <td id=\"T_a6ddf4fa_efd4_11ed_bdbb_96000040dfb6row5_col6\" class=\"data row5 col6\" >6.3%</td>\n",
       "            </tr>\n",
       "            <tr>\n",
       "                        <th id=\"T_a6ddf4fa_efd4_11ed_bdbb_96000040dfb6level0_row6\" class=\"row_heading level0 row6\" >2020-09-15 00:00:00</th>\n",
       "                        <th id=\"T_a6ddf4fa_efd4_11ed_bdbb_96000040dfb6level1_row6\" class=\"row_heading level1 row6\" >1623</th>\n",
       "                        <td id=\"T_a6ddf4fa_efd4_11ed_bdbb_96000040dfb6row6_col0\" class=\"data row6 col0\" >2.2%</td>\n",
       "                        <td id=\"T_a6ddf4fa_efd4_11ed_bdbb_96000040dfb6row6_col1\" class=\"data row6 col1\" >4.1%</td>\n",
       "                        <td id=\"T_a6ddf4fa_efd4_11ed_bdbb_96000040dfb6row6_col2\" class=\"data row6 col2\" >4.6%</td>\n",
       "                        <td id=\"T_a6ddf4fa_efd4_11ed_bdbb_96000040dfb6row6_col3\" class=\"data row6 col3\" >6.0%</td>\n",
       "                        <td id=\"T_a6ddf4fa_efd4_11ed_bdbb_96000040dfb6row6_col4\" class=\"data row6 col4\" >5.6%</td>\n",
       "                        <td id=\"T_a6ddf4fa_efd4_11ed_bdbb_96000040dfb6row6_col5\" class=\"data row6 col5\" >6.9%</td>\n",
       "                        <td id=\"T_a6ddf4fa_efd4_11ed_bdbb_96000040dfb6row6_col6\" class=\"data row6 col6\" >5.7%</td>\n",
       "            </tr>\n",
       "    </tbody></table>"
      ],
      "text/plain": [
       "<pandas.io.formats.style.Styler at 0x7f575a36c748>"
      ]
     },
     "execution_count": 13,
     "metadata": {},
     "output_type": "execute_result"
    }
   ],
   "source": [
    "# Проверяем:\n",
    "retention_rate(data_reg, data_auth, min_date, max_date, lifetime_days)"
   ]
  },
  {
   "cell_type": "markdown",
   "metadata": {},
   "source": [
    "Задача выполнена, теперь с можно задавать искомый период и с помощью функции строить график Retention."
   ]
  },
  {
   "cell_type": "markdown",
   "metadata": {},
   "source": [
    "# Задача 2"
   ]
  },
  {
   "cell_type": "markdown",
   "metadata": {},
   "source": [
    "Имеются результаты A/B теста, в котором двум группам пользователей предлагались различные наборы акционных предложений. Известно, что ARPU в тестовой группе выше на 5%, чем в контрольной. При этом в контрольной группе 1928 игроков из 202103 оказались платящими, а в тестовой – 1805 из 202667.\n",
    "\n",
    "Какой набор предложений можно считать лучшим? Какие метрики стоит проанализировать для принятия правильного решения и как?"
   ]
  },
  {
   "cell_type": "code",
   "execution_count": 43,
   "metadata": {},
   "outputs": [],
   "source": [
    "# посмотрим на данные:\n",
    "ab_results = pd.read_csv('a_b_results.csv', sep = ';')"
   ]
  },
  {
   "cell_type": "code",
   "execution_count": 44,
   "metadata": {},
   "outputs": [
    {
     "data": {
      "text/html": [
       "<div>\n",
       "<style scoped>\n",
       "    .dataframe tbody tr th:only-of-type {\n",
       "        vertical-align: middle;\n",
       "    }\n",
       "\n",
       "    .dataframe tbody tr th {\n",
       "        vertical-align: top;\n",
       "    }\n",
       "\n",
       "    .dataframe thead th {\n",
       "        text-align: right;\n",
       "    }\n",
       "</style>\n",
       "<table border=\"1\" class=\"dataframe\">\n",
       "  <thead>\n",
       "    <tr style=\"text-align: right;\">\n",
       "      <th></th>\n",
       "      <th>user_id</th>\n",
       "      <th>revenue</th>\n",
       "      <th>testgroup</th>\n",
       "    </tr>\n",
       "  </thead>\n",
       "  <tbody>\n",
       "    <tr>\n",
       "      <th>0</th>\n",
       "      <td>1</td>\n",
       "      <td>0</td>\n",
       "      <td>b</td>\n",
       "    </tr>\n",
       "    <tr>\n",
       "      <th>1</th>\n",
       "      <td>2</td>\n",
       "      <td>0</td>\n",
       "      <td>a</td>\n",
       "    </tr>\n",
       "  </tbody>\n",
       "</table>\n",
       "</div>"
      ],
      "text/plain": [
       "   user_id  revenue testgroup\n",
       "0        1        0         b\n",
       "1        2        0         a"
      ]
     },
     "execution_count": 44,
     "metadata": {},
     "output_type": "execute_result"
    }
   ],
   "source": [
    "ab_results.head(2)"
   ]
  },
  {
   "cell_type": "code",
   "execution_count": 45,
   "metadata": {},
   "outputs": [
    {
     "data": {
      "text/html": [
       "<div>\n",
       "<style scoped>\n",
       "    .dataframe tbody tr th:only-of-type {\n",
       "        vertical-align: middle;\n",
       "    }\n",
       "\n",
       "    .dataframe tbody tr th {\n",
       "        vertical-align: top;\n",
       "    }\n",
       "\n",
       "    .dataframe thead th {\n",
       "        text-align: right;\n",
       "    }\n",
       "</style>\n",
       "<table border=\"1\" class=\"dataframe\">\n",
       "  <thead>\n",
       "    <tr style=\"text-align: right;\">\n",
       "      <th></th>\n",
       "      <th>user_id</th>\n",
       "      <th>revenue</th>\n",
       "    </tr>\n",
       "  </thead>\n",
       "  <tbody>\n",
       "    <tr>\n",
       "      <th>count</th>\n",
       "      <td>404770.000000</td>\n",
       "      <td>404770.000000</td>\n",
       "    </tr>\n",
       "    <tr>\n",
       "      <th>mean</th>\n",
       "      <td>202385.500000</td>\n",
       "      <td>26.083435</td>\n",
       "    </tr>\n",
       "    <tr>\n",
       "      <th>std</th>\n",
       "      <td>116847.178567</td>\n",
       "      <td>681.652928</td>\n",
       "    </tr>\n",
       "    <tr>\n",
       "      <th>min</th>\n",
       "      <td>1.000000</td>\n",
       "      <td>0.000000</td>\n",
       "    </tr>\n",
       "    <tr>\n",
       "      <th>25%</th>\n",
       "      <td>101193.250000</td>\n",
       "      <td>0.000000</td>\n",
       "    </tr>\n",
       "    <tr>\n",
       "      <th>50%</th>\n",
       "      <td>202385.500000</td>\n",
       "      <td>0.000000</td>\n",
       "    </tr>\n",
       "    <tr>\n",
       "      <th>75%</th>\n",
       "      <td>303577.750000</td>\n",
       "      <td>0.000000</td>\n",
       "    </tr>\n",
       "    <tr>\n",
       "      <th>max</th>\n",
       "      <td>404770.000000</td>\n",
       "      <td>37433.000000</td>\n",
       "    </tr>\n",
       "  </tbody>\n",
       "</table>\n",
       "</div>"
      ],
      "text/plain": [
       "             user_id        revenue\n",
       "count  404770.000000  404770.000000\n",
       "mean   202385.500000      26.083435\n",
       "std    116847.178567     681.652928\n",
       "min         1.000000       0.000000\n",
       "25%    101193.250000       0.000000\n",
       "50%    202385.500000       0.000000\n",
       "75%    303577.750000       0.000000\n",
       "max    404770.000000   37433.000000"
      ]
     },
     "execution_count": 45,
     "metadata": {},
     "output_type": "execute_result"
    }
   ],
   "source": [
    "ab_results.describe()"
   ]
  },
  {
   "cell_type": "code",
   "execution_count": 46,
   "metadata": {},
   "outputs": [
    {
     "data": {
      "text/plain": [
       "404770"
      ]
     },
     "execution_count": 46,
     "metadata": {},
     "output_type": "execute_result"
    }
   ],
   "source": [
    "ab_results.user_id.nunique()"
   ]
  },
  {
   "cell_type": "markdown",
   "metadata": {},
   "source": [
    "Итак, на что мы можем посмотреть, чтобы сделать выводы о том, какой набор предложений можно считать лучшим?\n",
    "1. Можем статистически проверить показатель ARPU. 5% это много или мало? и будет ли это стат. значимо?\n",
    "2. Можем статистически проверить показатель ARPPU и выяснить, стали ли наши платящие пользователи платить больше.\n",
    "3. Можем проанализировать количество платящих пользователей в каждой группе. Имеется ли статистически значимая связь между группой теста и количеством платящих пользователей."
   ]
  },
  {
   "cell_type": "markdown",
   "metadata": {},
   "source": [
    "Проверяем первую теорию. ARPU или Average revenue per user считается по формуле SUM revenue / количество уникальных пользователей. Если мы сравним средние показатели в двух группах с помощью стат. теста, то это и будет сравнение ARPU."
   ]
  },
  {
   "cell_type": "code",
   "execution_count": 48,
   "metadata": {},
   "outputs": [],
   "source": [
    "# разделим датасет на тестовый и контрольный для удобства"
   ]
  },
  {
   "cell_type": "code",
   "execution_count": 47,
   "metadata": {},
   "outputs": [],
   "source": [
    "control_data = ab_results.query('testgroup == \"a\"')\n",
    "test_data = ab_results.query('testgroup == \"b\"')"
   ]
  },
  {
   "cell_type": "markdown",
   "metadata": {},
   "source": [
    "Для посмотрим на показатели ARPU в контрольной и тестовой группах"
   ]
  },
  {
   "cell_type": "code",
   "execution_count": 21,
   "metadata": {},
   "outputs": [
    {
     "name": "stdout",
     "output_type": "stream",
     "text": [
      "25.413719736965806\n"
     ]
    }
   ],
   "source": [
    "ARPU_control =  control_data.revenue.sum() / control_data.user_id.count()\n",
    "print(ARPU_control)"
   ]
  },
  {
   "cell_type": "code",
   "execution_count": 22,
   "metadata": {},
   "outputs": [
    {
     "name": "stdout",
     "output_type": "stream",
     "text": [
      "26.75128659327863\n"
     ]
    }
   ],
   "source": [
    "ARPU_test = test_data.revenue.sum() / test_data.user_id.count()\n",
    "print(ARPU_test)"
   ]
  },
  {
   "cell_type": "code",
   "execution_count": 23,
   "metadata": {},
   "outputs": [
    {
     "data": {
      "text/plain": [
       "5.263168360069894"
      ]
     },
     "execution_count": 23,
     "metadata": {},
     "output_type": "execute_result"
    }
   ],
   "source": [
    "(ARPU_test - ARPU_control) / ARPU_control * 100"
   ]
  },
  {
   "cell_type": "markdown",
   "metadata": {},
   "source": [
    "Итак, ARPU в контрольной группе равен 25.4, а ARPU в тестовой группе равен 25.8. Разница в ARPU действительно 5 %. Проверим, статистически значима ли эта разница."
   ]
  },
  {
   "cell_type": "code",
   "execution_count": 24,
   "metadata": {},
   "outputs": [
    {
     "data": {
      "image/png": "[encoded data removed]",
      "text/plain": [
       "<Figure size 432x288 with 1 Axes>"
      ]
     },
     "metadata": {
      "needs_background": "light"
     },
     "output_type": "display_data"
    }
   ],
   "source": [
    "# Посмотрим на распределения в тестовой и контрольной группах\n",
    "sns.boxplot(x='testgroup', y='revenue', data=ab_results)\n",
    "\n",
    "# добавление подписей к осям и заголовка\n",
    "plt.xlabel('Group')\n",
    "plt.ylabel('Value')\n",
    "plt.title('Distributions')\n",
    "sns.set(rc={'figure.figsize':(20,9)})\n",
    "plt.show()"
   ]
  },
  {
   "cell_type": "markdown",
   "metadata": {},
   "source": [
    "В контрольной группе очень большие выбросы. Мы примем это во внимание."
   ]
  },
  {
   "cell_type": "markdown",
   "metadata": {},
   "source": [
    "Итак, на основании небольшого разведовательного анализа можно сделать вывод, что в контрольной группе присутствет огромный выброс, который может существенно повлиять на результаты теста. Так как мы не можем проверить исходные данные, будем исходить из того, что сплит-система сработала нормально и в контрольную группу не попал так наываемый \"кит\", который изначально всегда вкладывал много денег в игру. Также нам нет смысла избавляться от этого выброса, т.к. мы хотим сохранить пользователя, который вкладывает такие большие деньги в наш проект."
   ]
  },
  {
   "cell_type": "markdown",
   "metadata": {},
   "source": [
    "Так как нам необходимо проверить показатели ARPU, нам необходимо применить статистический тест, который сравнивает средние в двух группах. Для этого нам подойдет t-test. "
   ]
  },
  {
   "cell_type": "markdown",
   "metadata": {},
   "source": [
    "Формируем гепотезы для сравнения:\n",
    "- H0 - статистически значимой разницы между ARPU контрольной и тестовой группах нет.\n",
    "- H1 - статистически значимая разница есть\n",
    "- Пороговое значение p-value < 0.05"
   ]
  },
  {
   "cell_type": "code",
   "execution_count": 25,
   "metadata": {},
   "outputs": [
    {
     "data": {
      "text/plain": [
       "Ttest_indResult(statistic=-0.6242026493616787, pvalue=0.532494858971837)"
      ]
     },
     "execution_count": 25,
     "metadata": {},
     "output_type": "execute_result"
    }
   ],
   "source": [
    "stats.ttest_ind(control_data.revenue, test_data.revenue)"
   ]
  },
  {
   "cell_type": "markdown",
   "metadata": {},
   "source": [
    "Исходя из результатов t-test статистически значимой разницы нет."
   ]
  },
  {
   "cell_type": "markdown",
   "metadata": {},
   "source": [
    "Сделаем промежуточный вывод\n",
    "- t-test показал нам, что нет основнаний отклонять нулевую гепотезу. То есть на основании исследования ARPU мы не можем сделать вывод, что второй набор был лучше.\n",
    "\n",
    "Пока возьмем всю эту информацию на заметку и проверим следующие теории."
   ]
  },
  {
   "cell_type": "markdown",
   "metadata": {},
   "source": [
    "Теперь проверим, есть ли статистически значимая разница в ARPPU. Предположим, что система сплитования изначально закинула нам  больше платящих пользователей в контрольную группу. На данном этапе мы это проверить не можем, но можем невилировать количество платящих, посчитав ARPPU. ARPPU или Average revenue per payment user считается по формуле общая выручка / количество платящих пользователей. Так мы узнаем стали ли платящие пользователи платить больше. "
   ]
  },
  {
   "cell_type": "code",
   "execution_count": 26,
   "metadata": {},
   "outputs": [],
   "source": [
    "# подредактируем наши датасеты\n",
    "control_data_payed = ab_results.query('testgroup == \"a\" and revenue > 0')\n",
    "test_data_payed = ab_results.query('testgroup == \"b\" and  revenue > 0')"
   ]
  },
  {
   "cell_type": "markdown",
   "metadata": {},
   "source": [
    "Посмотрим на показатели ARPPU в контрольной и тестовой группах"
   ]
  },
  {
   "cell_type": "code",
   "execution_count": 27,
   "metadata": {},
   "outputs": [
    {
     "name": "stdout",
     "output_type": "stream",
     "text": [
      "2663.9984439834025\n"
     ]
    }
   ],
   "source": [
    "ARPPU_control =  control_data_payed.revenue.sum() / control_data_payed.user_id.count()\n",
    "print(ARPPU_control)"
   ]
  },
  {
   "cell_type": "code",
   "execution_count": 28,
   "metadata": {},
   "outputs": [
    {
     "name": "stdout",
     "output_type": "stream",
     "text": [
      "3003.6581717451522\n"
     ]
    }
   ],
   "source": [
    "ARPPU_test =  test_data_payed.revenue.sum() / test_data_payed.user_id.count()\n",
    "print(ARPPU_test)"
   ]
  },
  {
   "cell_type": "code",
   "execution_count": 34,
   "metadata": {},
   "outputs": [
    {
     "data": {
      "text/plain": [
       "12.749997227996351"
      ]
     },
     "execution_count": 34,
     "metadata": {},
     "output_type": "execute_result"
    }
   ],
   "source": [
    "(ARPPU_test - ARPPU_control) / ARPPU_control * 100"
   ]
  },
  {
   "cell_type": "markdown",
   "metadata": {},
   "source": [
    "Итак, ARPPU в контрольной группе равен 2664, а ARPPU в тестовой группе равен 3004. Разница в ARPPU 12.7%. Проверим,\n",
    "cтатистически значима ли эта разница."
   ]
  },
  {
   "cell_type": "code",
   "execution_count": 29,
   "metadata": {},
   "outputs": [
    {
     "name": "stderr",
     "output_type": "stream",
     "text": [
      "/opt/tljh/user/lib/python3.7/site-packages/numpy/core/fromnumeric.py:3208: VisibleDeprecationWarning: Creating an ndarray from ragged nested sequences (which is a list-or-tuple of lists-or-tuples-or ndarrays with different lengths or shapes) is deprecated. If you meant to do this, you must specify 'dtype=object' when creating the ndarray.\n",
      "  return asarray(a).size\n",
      "/opt/tljh/user/lib/python3.7/site-packages/matplotlib/cbook/__init__.py:1376: VisibleDeprecationWarning: Creating an ndarray from ragged nested sequences (which is a list-or-tuple of lists-or-tuples-or ndarrays with different lengths or shapes) is deprecated. If you meant to do this, you must specify 'dtype=object' when creating the ndarray.\n",
      "  X = np.atleast_1d(X.T if isinstance(X, np.ndarray) else np.asarray(X))\n"
     ]
    },
    {
     "data": {
      "image/png": "[encoded data removed]",
      "text/plain": [
       "<Figure size 1440x648 with 1 Axes>"
      ]
     },
     "metadata": {},
     "output_type": "display_data"
    }
   ],
   "source": [
    "# Посмотрим на соотношение распределений ARPPU в контрольной и тестовой группах. \n",
    "plt.hist([control_data_payed.revenue, test_data_payed.revenue], bins=30, alpha=0.5, label=['Control_group', 'Test_group'])\n",
    "plt.legend(loc='upper right')\n",
    "plt.title('Общая гистограмма для двух распределений ARPPU')\n",
    "plt.xlabel('Значения')\n",
    "plt.ylabel('Количество')\n",
    "plt.show()"
   ]
  },
  {
   "cell_type": "markdown",
   "metadata": {},
   "source": [
    "По визуализации видно, что в тестовой группе игроки в общей своей массе платят больше, чем в контрольной. Но в контрольной есть игроки, которые вкладывают денег \"ненормально\" много."
   ]
  },
  {
   "cell_type": "markdown",
   "metadata": {},
   "source": [
    "Попробуем применить t-test. Для этого сформируем гепотезы:\n",
    "- H0 - статистически значимой разницы между ARPPU контрольной и тестовой группах нет.\n",
    "- H1 - статистически значимая разница есть\n",
    "- Пороговое значение p-value < 0.05"
   ]
  },
  {
   "cell_type": "code",
   "execution_count": 30,
   "metadata": {},
   "outputs": [
    {
     "data": {
      "text/plain": [
       "Ttest_indResult(statistic=-1.5917100176862002, pvalue=0.11153459157259504)"
      ]
     },
     "execution_count": 30,
     "metadata": {},
     "output_type": "execute_result"
    }
   ],
   "source": [
    "# Попробуем применить t-test:\n",
    "stats.ttest_ind(control_data_payed.revenue, test_data_payed.revenue)"
   ]
  },
  {
   "cell_type": "markdown",
   "metadata": {},
   "source": [
    "p-value > 0.05, значит у нас нет оснований отклонить нулевую гепотезу"
   ]
  },
  {
   "cell_type": "markdown",
   "metadata": {},
   "source": [
    "t-test не показал стат. значимых различий между ARPPU в контрольной и тестовой группах."
   ]
  },
  {
   "cell_type": "markdown",
   "metadata": {},
   "source": [
    "Проверим, есть ли зависимость между группой теста и количеством платящих пользователей в ней, т.е. проверим показатель конверсии в платящего. "
   ]
  },
  {
   "cell_type": "code",
   "execution_count": 31,
   "metadata": {},
   "outputs": [
    {
     "name": "stdout",
     "output_type": "stream",
     "text": [
      "0.009539690157988749\n"
     ]
    }
   ],
   "source": [
    "CR_control = control_data.query('revenue > 0')['user_id'].count() / control_data.shape[0]\n",
    "print(CR_control)"
   ]
  },
  {
   "cell_type": "code",
   "execution_count": 32,
   "metadata": {},
   "outputs": [
    {
     "name": "stdout",
     "output_type": "stream",
     "text": [
      "0.008906235351586593\n"
     ]
    }
   ],
   "source": [
    "CR_test = test_data.query('revenue > 0')['user_id'].count() / test_data.shape[0]\n",
    "print(CR_test)"
   ]
  },
  {
   "cell_type": "code",
   "execution_count": 33,
   "metadata": {},
   "outputs": [
    {
     "data": {
      "text/plain": [
       "7.112486717401974"
      ]
     },
     "execution_count": 33,
     "metadata": {},
     "output_type": "execute_result"
    }
   ],
   "source": [
    "(CR_control - CR_test) /  CR_test * 100"
   ]
  },
  {
   "cell_type": "markdown",
   "metadata": {},
   "source": [
    "Конверсия в покупку в контрольной группе равна 0.0095 или 0.95 %, а конверсия в покупку для тестовой группы равна 0.0089 или 0.89 %. Разница в 7%"
   ]
  },
  {
   "cell_type": "markdown",
   "metadata": {},
   "source": [
    "Применим критерий XI2, чтобы посмотреть статистически значимы ли эти различия или нет."
   ]
  },
  {
   "cell_type": "code",
   "execution_count": 34,
   "metadata": {},
   "outputs": [],
   "source": [
    "# создадим дополнительную колонку в которой если пользователь платил - 1, если не платил - 0\n",
    "ab_results['payed_user'] = ab_results['revenue'].apply(lambda x: 1 if x > 0 else 0)"
   ]
  },
  {
   "cell_type": "code",
   "execution_count": 35,
   "metadata": {},
   "outputs": [
    {
     "data": {
      "text/html": [
       "<div>\n",
       "<style scoped>\n",
       "    .dataframe tbody tr th:only-of-type {\n",
       "        vertical-align: middle;\n",
       "    }\n",
       "\n",
       "    .dataframe tbody tr th {\n",
       "        vertical-align: top;\n",
       "    }\n",
       "\n",
       "    .dataframe thead th {\n",
       "        text-align: right;\n",
       "    }\n",
       "</style>\n",
       "<table border=\"1\" class=\"dataframe\">\n",
       "  <thead>\n",
       "    <tr style=\"text-align: right;\">\n",
       "      <th></th>\n",
       "      <th>user_id</th>\n",
       "      <th>revenue</th>\n",
       "      <th>testgroup</th>\n",
       "      <th>payed_user</th>\n",
       "    </tr>\n",
       "  </thead>\n",
       "  <tbody>\n",
       "    <tr>\n",
       "      <th>0</th>\n",
       "      <td>1</td>\n",
       "      <td>0</td>\n",
       "      <td>b</td>\n",
       "      <td>0</td>\n",
       "    </tr>\n",
       "    <tr>\n",
       "      <th>1</th>\n",
       "      <td>2</td>\n",
       "      <td>0</td>\n",
       "      <td>a</td>\n",
       "      <td>0</td>\n",
       "    </tr>\n",
       "  </tbody>\n",
       "</table>\n",
       "</div>"
      ],
      "text/plain": [
       "   user_id  revenue testgroup  payed_user\n",
       "0        1        0         b           0\n",
       "1        2        0         a           0"
      ]
     },
     "execution_count": 35,
     "metadata": {},
     "output_type": "execute_result"
    }
   ],
   "source": [
    "ab_results.head(2)"
   ]
  },
  {
   "cell_type": "code",
   "execution_count": 36,
   "metadata": {},
   "outputs": [],
   "source": [
    "# создаем табличку сопряженности\n",
    "crosstab = pd.crosstab(ab_results['testgroup'], ab_results['payed_user'])"
   ]
  },
  {
   "cell_type": "code",
   "execution_count": 37,
   "metadata": {},
   "outputs": [
    {
     "data": {
      "text/html": [
       "<div>\n",
       "<style scoped>\n",
       "    .dataframe tbody tr th:only-of-type {\n",
       "        vertical-align: middle;\n",
       "    }\n",
       "\n",
       "    .dataframe tbody tr th {\n",
       "        vertical-align: top;\n",
       "    }\n",
       "\n",
       "    .dataframe thead th {\n",
       "        text-align: right;\n",
       "    }\n",
       "</style>\n",
       "<table border=\"1\" class=\"dataframe\">\n",
       "  <thead>\n",
       "    <tr style=\"text-align: right;\">\n",
       "      <th>payed_user</th>\n",
       "      <th>0</th>\n",
       "      <th>1</th>\n",
       "    </tr>\n",
       "    <tr>\n",
       "      <th>testgroup</th>\n",
       "      <th></th>\n",
       "      <th></th>\n",
       "    </tr>\n",
       "  </thead>\n",
       "  <tbody>\n",
       "    <tr>\n",
       "      <th>a</th>\n",
       "      <td>200175</td>\n",
       "      <td>1928</td>\n",
       "    </tr>\n",
       "    <tr>\n",
       "      <th>b</th>\n",
       "      <td>200862</td>\n",
       "      <td>1805</td>\n",
       "    </tr>\n",
       "  </tbody>\n",
       "</table>\n",
       "</div>"
      ],
      "text/plain": [
       "payed_user       0     1\n",
       "testgroup               \n",
       "a           200175  1928\n",
       "b           200862  1805"
      ]
     },
     "execution_count": 37,
     "metadata": {},
     "output_type": "execute_result"
    }
   ],
   "source": [
    "crosstab"
   ]
  },
  {
   "cell_type": "markdown",
   "metadata": {},
   "source": [
    "Формируем гепотезы:\n",
    "- H0: нет стат.значимой зависимости между группой а/б теста и количеством платящих пользователей.\n",
    "- Н1: стат. значимая зависимость есть."
   ]
  },
  {
   "cell_type": "code",
   "execution_count": 42,
   "metadata": {},
   "outputs": [
    {
     "name": "stdout",
     "output_type": "stream",
     "text": [
      "chi-square stat = 4.374729521260405\n",
      "p-value = 0.03647561892312613\n",
      "Отклоняем H0\n"
     ]
    }
   ],
   "source": [
    "# применяем тест XI2\n",
    "stat, p, dof, expected = chi2_contingency(crosstab)\n",
    "\n",
    "print('chi-square stat =', stat)\n",
    "print('p-value =', p)\n",
    "prob = 0.95\n",
    "alpha = 1.0 - prob\n",
    "if p <= alpha:\n",
    "    print('Отклоняем H0')\n",
    "else:\n",
    "    print('Не отклоняем H0')"
   ]
  },
  {
   "cell_type": "markdown",
   "metadata": {},
   "source": [
    "По всей видимоси статистически значимая разница зависимости между группой теста и количеством платящих пользователей есть. Примем это во внимание."
   ]
  },
  {
   "cell_type": "markdown",
   "metadata": {},
   "source": [
    "# Вывод\n",
    "Сначала сделаем небольшое саммари по нашим гепотезам:\n",
    "1. ARPU в контрольной группе равен 25.4, а ARPU в тестовой группе равен 25.8. Разница в ARPU 5 %, при этом такая разница не является статистически значимой.\n",
    "2. ARPPU в контрольной группе равен 2664, а ARPPU в тестовой группе равен 3004. Разница в ARPPU 12.7%, однако такая разница не является статистически значимой.\n",
    "3. Конверсия в покупку в контрольной группе равна 0.0095 или 0.95 %, а конверсия в покупку для тестовой группы равна 0.0089 или 0.89 %. Разница в 7%. Проверка взаимосвязи количества платящих пользователей от группы теста с помощью XI2 показала статистическую значимость.\n",
    "\n",
    "Какой основной вывод мы можем сделать исходя из полученных данных?\n",
    "Основной вывод, который мы можем сделать исходя из полученных данных - нам не удалось доказать, что ARPU и ARPPU в тестовой группе статистически значимо выросли, что говорит нам о том, что новый набор предложений мы не можем считать лучше. А даже наоборот, исходя из показателя конверсии, старый набор предложений пользуется большей популярностью у игроков. Здесь направивается 3 основных вывода:\n",
    "1. Выборки могут быть не репрезентативные, так-как в тестовой группе у нас нет премиального сегмента. Возможно, проблема сплит-системы. В данном случае есть смысл либо продолжить а/б тест до появления пермиального сегмента в тестовой группе (не всегда возможно, так как период проведения теста ограничен по времени), либо начать тест занаво, предварительно проверив систему a/a тестом.\n",
    "2. Если мы считаем, что выборки репрезентативны, то наличие премиального сегмента пользователей в контрольной группе идет несомненно в плюс. Обычно такие игроки долго играют в игру и у них большой LTV. Терять таких пользователей мы определенно не можем, поэтому второй набор предложений мы раскатывать не будем.\n",
    "3. Тест показал, что у нас есть стат. значимая разница в конверсии в платеж, а между ARPU и ARPPU нет. Это может означать, что в динамике первый набор принесет нам больше денег, чем второй. Данный вывод тоже предполагает не раскатывать изменения на всех пользоваталей."
   ]
  },
  {
   "cell_type": "markdown",
   "metadata": {},
   "source": [
    "# ЗАДАЧА 3"
   ]
  },
  {
   "cell_type": "markdown",
   "metadata": {},
   "source": [
    "В игре Plants & Gardens каждый месяц проводятся тематические события, ограниченные по времени. В них игроки могут получить уникальные предметы для сада и персонажей, дополнительные монеты или бонусы. Для получения награды требуется пройти ряд уровней за определенное время. С помощью каких метрик можно оценить результаты последнего прошедшего события?\n",
    "\n",
    "Предположим, в другом событии мы усложнили механику событий так, что при каждой неудачной попытке выполнения уровня игрок будет откатываться на несколько уровней назад. Изменится ли набор метрик оценки результата? Если да, то как?"
   ]
  },
  {
   "cell_type": "markdown",
   "metadata": {},
   "source": [
    "Для оценки результатов последнего прошедшего события можно использовать следующие метрики:\n",
    "\n",
    "1. Количество игроков, принявших участие в событии - это покажет, насколько популярно событие было у игроков.\n",
    "\n",
    "2. Количество игроков, которые успешно прошли все уровни события - это даст представление о сложности и интересности события.\n",
    "\n",
    "3. Среднее время сессии после введения события - это даст нам понимание как событие повлияло на онлайн в игре.\n",
    "\n",
    "4. DAU, WAU и MAU после введения события (в зависимости от длительности события) - это даст нам понимание, стало ли больше людей играть в нашу игру.\n",
    "\n",
    "5. Среднее время, затраченное игроками на прохождение всех уровней - это покажет, насколько событие было доступным и увлекательным для игроков.\n",
    "\n",
    "6. Количество полученных игроками уникальных предметов, бонусов и монет - это даст представление о том, насколько ценными оказались награды события для игроков (чем меньше игроков получили награды, тем она ценнее).\n",
    "\n",
    "7. Через определенное время по истечении ивента, необходимо опрабить внимание на ARPU и ARPPU - это нам поможет понять, не слишком ли ценные оказались награды и не сломал ли эвент экономику.\n",
    "\n",
    "Усложняем механику. Теперь при каждой неудачной попытке выполнения уровня игрок будет откатываться на несколько уровней назад. Предыдущие метрики нас в любом случае интересуют, но добавятся еще некоторые:\n",
    "\n",
    "8. Количество игроков, которые были отброшены на несколько уровней назад - это покажет, насколько сильно новая механика повлияла на игроков и их способность проходить уровни.\n",
    "\n",
    "9. Среднее количество попыток, затраченных на прохождение каждого уровня, а также среднее количество уровней, на которое были отброшены игроки - это даст представление о том, насколько сложными оказались уровни с новой механикой для игроков.\n",
    "\n",
    "10. Количество игроков, которые бросили участие в событии из-за новой механики (churn) - это покажет, насколько она оказалась неудачной и оттолкнула часть игроков.\n",
    "\n",
    "11. Также целесообразно построить воронку конверсии и посмотреть конкретно из какого уровня в следующий конверсия самая низкая. В идеале это должна быть равномерная воронка конверсии. Если процент конверсии где-то аномально низкий, то такие уровни необходимо перебалансировать."
   ]
  }
 ],
 "metadata": {
  "kernelspec": {
   "display_name": "Python 3",
   "language": "python",
   "name": "python3"
  },
  "language_info": {
   "codemirror_mode": {
    "name": "ipython",
    "version": 3
   },
   "file_extension": ".py",
   "mimetype": "text/x-python",
   "name": "python",
   "nbconvert_exporter": "python",
   "pygments_lexer": "ipython3",
   "version": "3.7.3"
  }
 },
 "nbformat": 4,
 "nbformat_minor": 4
}
